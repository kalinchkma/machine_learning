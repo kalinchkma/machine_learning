{
 "cells": [
  {
   "cell_type": "markdown",
   "id": "d0f807ab",
   "metadata": {},
   "source": [
    "### Optimistic Initial Values\n",
    "\n",
    "* It's a simple modification of purely greedy method\n",
    "* No need for epsilon/random exploation\n",
    "\n",
    "***NOTE:In EPSION GREEDY Implementation We initialized mean estimate to 0 , which is never used***\n",
    "***here we initialize mean to very large value, which will be use in this case***\n",
    "\n",
    "##### Ex.\n",
    "\n",
    "    class Bandit:\n",
    "        def __init__(self, p):\n",
    "            self.p = p\n",
    "            self.p_estimate = 10 #\n",
    "     \n",
    "\n",
    "    # greedy loop\n",
    "    for n in range(NUM_TRIALS):\n",
    "        j = argmax(b.p_estimate for b in bandits)\n",
    "        ....\n",
    "\n",
    "#### Choosing the bandit\n",
    "\n",
    "* Be greedy\n",
    "* Choose the bandit arm with \"largest estimated mean\"\n",
    "* Goal of this is to balance exploration(collect data) and exploitation\n",
    "* Early in experiment when we haven't collect much data yet:\n",
    "    * less data\n",
    "    * Estimated meam is large (because inital value is large / optimistic)\n",
    "* Later in experiment:\n",
    "    * Lots of data will get collected\n",
    "    * Estimated mean continues to get smaller until we stop choosing the bandit or it converges\n",
    "* Arithmetic average: even if initial value is very large, its effect disappears as more data collected\n",
    "\n",
    "\n",
    "#### Role of Initial Value\n",
    "\n",
    "* High initial value: explore, because the greedy algorithm believes the mean is high, even if it isn't\n",
    "* Extremely high = more exploration\n",
    "* Less high = less exploration\n",
    "* It's a hyperparameter that controls the amount of exploration"
   ]
  },
  {
   "cell_type": "code",
   "execution_count": 1,
   "id": "827a3ba3",
   "metadata": {},
   "outputs": [],
   "source": [
    "import matplotlib.pyplot as plt\n",
    "import numpy as np"
   ]
  },
  {
   "cell_type": "code",
   "execution_count": 6,
   "id": "27781897",
   "metadata": {},
   "outputs": [
    {
     "name": "stdout",
     "output_type": "stream",
     "text": [
      "mean estimate: 0.6666666666666666\n",
      "mean estimate: 0.6470588235294118\n",
      "mean estimate: 0.699007717750828\n",
      "Total reward earned:  6976.0\n",
      "Win rates:  0.6976\n",
      "NUM time selected each bandit: [9.0, 17.0, 9977.0]\n"
     ]
    },
    {
     "data": {
      "image/png": "[encoded data removed]",
      "text/plain": [
       "<Figure size 640x480 with 1 Axes>"
      ]
     },
     "metadata": {},
     "output_type": "display_data"
    }
   ],
   "source": [
    "#Example\n",
    "\n",
    "BANDIT_PROBABILITYES = [0.2, 0.5, 0.7]\n",
    "NUM_TRIALS = 10000\n",
    "\n",
    "class Bandit:\n",
    "    def __init__(self, p):\n",
    "        # p: the win rate \n",
    "        self.p = p\n",
    "        self.p_estimate = 5.\n",
    "        self.N = 1. # num of sample collected so far\n",
    "    \n",
    "    def pull(self):\n",
    "        # draw a 1 with probability p\n",
    "        return np.random.random() < self.p\n",
    "    \n",
    "    def update(self, x):\n",
    "        self.N += 1\n",
    "        self.p_estimate = ((self.N - 1)*self.p_estimate + x) / self.N\n",
    "\n",
    "        \n",
    "def experiment():\n",
    "    bandits = [Bandit(p) for p in BANDIT_PROBABILITYES]\n",
    "    \n",
    "    rewards = np.zeros(NUM_TRIALS)\n",
    "    \n",
    "    for i in range(NUM_TRIALS):\n",
    "        # use optimistic initial values to select the next bandit\n",
    "        j = np.argmax([b.p_estimate for b in bandits])\n",
    "        \n",
    "        # pull the arm for the bandit with the largest sample\n",
    "        x = bandits[j].pull()\n",
    "        \n",
    "        # update rewards log\n",
    "        rewards[i] = x\n",
    "        \n",
    "        # update the distribution for the bandit whose arm we just pulled\n",
    "        bandits[j].update(x)\n",
    "        \n",
    "        \n",
    "    # print mean estimate\n",
    "    for b in bandits:\n",
    "        print(\"mean estimate:\",b.p_estimate)\n",
    "        \n",
    "    \n",
    "    # print total reward\n",
    "    print(\"Total reward earned: \", rewards.sum())\n",
    "    print(\"Win rates: \", rewards.sum()/NUM_TRIALS)\n",
    "    print(\"NUM time selected each bandit:\", [b.N for b in bandits])\n",
    "    \n",
    "    \n",
    "    # plot the result\n",
    "    cumulative_rewards = np.cumsum(rewards)\n",
    "    win_rates = cumulative_rewards / (np.arange(NUM_TRIALS) + 1)\n",
    "    plt.ylim([0, 1])\n",
    "    plt.plot(win_rates)\n",
    "    plt.plot(np.ones(NUM_TRIALS) * np.max(BANDIT_PROBABILITYES))\n",
    "    plt.show()\n",
    "    \n",
    "    \n",
    "    \n",
    "experiment()\n",
    "    "
   ]
  },
  {
   "cell_type": "code",
   "execution_count": null,
   "id": "d0848176",
   "metadata": {},
   "outputs": [],
   "source": []
  }
 ],
 "metadata": {
  "kernelspec": {
   "display_name": "Python 3 (ipykernel)",
   "language": "python",
   "name": "python3"
  },
  "language_info": {
   "codemirror_mode": {
    "name": "ipython",
    "version": 3
   },
   "file_extension": ".py",
   "mimetype": "text/x-python",
   "name": "python",
   "nbconvert_exporter": "python",
   "pygments_lexer": "ipython3",
   "version": "3.11.4"
  }
 },
 "nbformat": 4,
 "nbformat_minor": 5
}
