{
 "cells": [
  {
   "cell_type": "code",
   "execution_count": null,
   "id": "dc11a839",
   "metadata": {},
   "outputs": [],
   "source": [
    "a = {2, 3, 4,5}\n",
    "b = {2, 3}"
   ]
  },
  {
   "cell_type": "code",
   "execution_count": null,
   "id": "c0460967",
   "metadata": {},
   "outputs": [
    {
     "name": "stderr",
     "output_type": "stream",
     "text": [
      "error: \u001b[0;1;31m\u001b[1mExpression [4]:17:16: \u001b[0m\u001b[1muse of unknown declaration 'b'\n",
      "\u001b[0m    print(1 in b)\n",
      "\u001b[0;1;32m               ^\n",
      "\u001b[0m\u001b[0m\n",
      "expression failed to parse (no further compiler diagnostics)"
     ]
    }
   ],
   "source": [
    "print(1 in b)"
   ]
  },
  {
   "cell_type": "code",
   "execution_count": null,
   "id": "d6678ceb",
   "metadata": {},
   "outputs": [],
   "source": []
  }
 ],
 "metadata": {
  "kernelspec": {
   "display_name": "Mojo",
   "language": "mojo",
   "name": "mojo-jupyter-kernel"
  },
  "language_info": {
   "codemirror_mode": {
    "name": "mojo"
   },
   "file_extension": ".mojo",
   "mimetype": "text/x-mojo",
   "name": "mojo"
  }
 },
 "nbformat": 4,
 "nbformat_minor": 5
}
